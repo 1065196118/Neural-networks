{
 "cells": [
  {
   "cell_type": "markdown",
   "metadata": {},
   "source": [
    "# predict for Neural Network to breast cancer\n",
    "predict the percentage of cancer in the patient"
   ]
  },
  {
   "cell_type": "code",
   "execution_count": 20,
   "metadata": {},
   "outputs": [
    {
     "name": "stdout",
     "output_type": "stream",
     "text": [
      "   age        bmi  glucose  insulin      homa   leptin  adiponectin  resistin  \\\n",
      "0   48  23.500000       70    2.707  0.467409   8.8071     9.702400   7.99585   \n",
      "1   83  20.690495       92    3.115  0.706897   8.8438     5.429285   4.06405   \n",
      "2   82  23.124670       91    4.498  1.009651  17.9393    22.432040   9.27715   \n",
      "3   68  21.367521       77    3.226  0.612725   9.8827     7.169560  12.76600   \n",
      "4   86  21.111111       92    3.549  0.805386   6.6994     4.819240  10.57635   \n",
      "\n",
      "     mcp_1  classification  \n",
      "0  417.114               0  \n",
      "1  468.786               0  \n",
      "2  554.697               0  \n",
      "3  928.220               0  \n",
      "4  773.920               0  \n"
     ]
    },
    {
     "data": {
      "text/plain": [
       "0.569"
      ]
     },
     "execution_count": 20,
     "metadata": {},
     "output_type": "execute_result"
    }
   ],
   "source": [
    "# Neural Network\n",
    "\n",
    "import pandas as pd\n",
    "from sklearn.neural_network import MLPClassifier\n",
    "\n",
    "cancer = pd.read_csv('data_cancer.csv', sep=',', header=0)\n",
    "print(cancer.head())\n",
    "# selsct column y , x\n",
    "y = cancer.iloc[:,9] \n",
    "X = cancer.iloc[:,:9] \n",
    "\n",
    "NN = MLPClassifier(solver='lbfgs', alpha=1e-4, hidden_layer_sizes=(2, 5), random_state=2)\n",
    "NN.fit(X, y)\n",
    "NN.predict(X.iloc[100:,:])# prediction value\n",
    "round(NN.score(X,y), 4)"
   ]
  },
  {
   "cell_type": "code",
   "execution_count": null,
   "metadata": {},
   "outputs": [],
   "source": []
  }
 ],
 "metadata": {
  "kernelspec": {
   "display_name": "Python 3",
   "language": "python",
   "name": "python3"
  },
  "language_info": {
   "codemirror_mode": {
    "name": "ipython",
    "version": 3
   },
   "file_extension": ".py",
   "mimetype": "text/x-python",
   "name": "python",
   "nbconvert_exporter": "python",
   "pygments_lexer": "ipython3",
   "version": "3.7.6"
  }
 },
 "nbformat": 4,
 "nbformat_minor": 4
}
